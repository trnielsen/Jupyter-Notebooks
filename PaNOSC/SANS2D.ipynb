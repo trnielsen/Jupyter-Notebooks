{
 "cells": [
  {
   "cell_type": "markdown",
   "metadata": {},
   "source": [
    "# McStas  "
   ]
  },
  {
   "cell_type": "markdown",
   "metadata": {},
   "source": [
    "## First time setup McStas Script"
   ]
  },
  {
   "cell_type": "code",
   "execution_count": 1,
   "metadata": {
    "ExecuteTime": {
     "end_time": "2020-08-06T12:47:16.976839Z",
     "start_time": "2020-08-06T12:47:16.866945Z"
    }
   },
   "outputs": [],
   "source": [
    "from mcstasscript.interface import functions"
   ]
  },
  {
   "cell_type": "markdown",
   "metadata": {},
   "source": [
    "## McStas instr file"
   ]
  },
  {
   "cell_type": "code",
   "execution_count": 2,
   "metadata": {
    "ExecuteTime": {
     "end_time": "2020-08-06T12:47:21.290663Z",
     "start_time": "2020-08-06T12:47:20.683983Z"
    }
   },
   "outputs": [],
   "source": [
    "from mcstasscript.interface import instr, plotter, functions"
   ]
  },
  {
   "cell_type": "code",
   "execution_count": 3,
   "metadata": {
    "ExecuteTime": {
     "end_time": "2020-08-06T12:47:21.306269Z",
     "start_time": "2020-08-06T12:47:21.292536Z"
    }
   },
   "outputs": [],
   "source": [
    "ISIS_SANS2d_Mantid = instr.McStas_instr(\"ISIS_SANS2d_Mantid_generated\")\n",
    "ISIS_SANS2d_Mantid.add_parameter(\"double\", \"L1\", value=3.926)\n",
    "ISIS_SANS2d_Mantid.add_parameter(\"double\", \"A1w\", value=0.03)\n",
    "ISIS_SANS2d_Mantid.add_parameter(\"double\", \"A1h\", value=0.02)\n",
    "ISIS_SANS2d_Mantid.add_parameter(\"double\", \"S6\", value=0.006)\n",
    "ISIS_SANS2d_Mantid.add_parameter(\"double\", \"A2\", value=0.006)\n",
    "ISIS_SANS2d_Mantid.add_parameter(\"double\", \"Lmin\", value=1.0)\n",
    "ISIS_SANS2d_Mantid.add_parameter(\"double\", \"Lmax\", value=14.0)\n",
    "ISIS_SANS2d_Mantid.add_parameter(\"double\", \"model_nr\", value=5.0)"
   ]
  },
  {
   "cell_type": "code",
   "execution_count": 4,
   "metadata": {
    "ExecuteTime": {
     "end_time": "2020-08-06T12:47:22.121503Z",
     "start_time": "2020-08-06T12:47:22.117271Z"
    }
   },
   "outputs": [],
   "source": [
    "a1 = ISIS_SANS2d_Mantid.add_component(\"a1\", \"Progress_bar\")\n",
    "a1.set_AT(['0', '0', '0'], RELATIVE=\"ABSOLUTE\")"
   ]
  },
  {
   "cell_type": "code",
   "execution_count": 5,
   "metadata": {
    "ExecuteTime": {
     "end_time": "2020-08-06T12:47:22.867812Z",
     "start_time": "2020-08-06T12:47:22.863697Z"
    }
   },
   "outputs": [],
   "source": [
    "Origin = ISIS_SANS2d_Mantid.add_component(\"Origin\", \"Arm\")\n",
    "Origin.set_AT(['0', '0', '0'], RELATIVE=\"ABSOLUTE\")"
   ]
  },
  {
   "cell_type": "code",
   "execution_count": 6,
   "metadata": {
    "ExecuteTime": {
     "end_time": "2020-08-06T12:47:23.578845Z",
     "start_time": "2020-08-06T12:47:23.571293Z"
    }
   },
   "outputs": [],
   "source": [
    "isis_source = ISIS_SANS2d_Mantid.add_component(\"isis_source\", \"ISIS_moderator\")\n",
    "isis_source.Face = \"\\\"E2\\\"\"\n",
    "isis_source.Emin = \"-Lmax\"\n",
    "isis_source.Emax = \"-Lmin\"\n",
    "isis_source.dist = 3.68\n",
    "isis_source.focus_xw = 0.0365\n",
    "isis_source.focus_yh = 0.021\n",
    "isis_source.xwidth = -1\n",
    "isis_source.yheight = -1\n",
    "isis_source.CAngle = 0.0\n",
    "isis_source.SAC = 1\n",
    "isis_source.set_AT(['0.0', ' 0.0', ' 0.00001'], RELATIVE=\"Origin\")\n",
    "isis_source.set_ROTATED(['0.0', ' 0.0', ' 0.0'], RELATIVE=\"Origin\")"
   ]
  },
  {
   "cell_type": "code",
   "execution_count": 7,
   "metadata": {
    "ExecuteTime": {
     "end_time": "2020-08-06T12:47:24.779744Z",
     "start_time": "2020-08-06T12:47:24.773280Z"
    }
   },
   "outputs": [],
   "source": [
    "lmon1 = ISIS_SANS2d_Mantid.add_component(\"lmon1\", \"L_monitor\")\n",
    "lmon1.nL = 140\n",
    "lmon1.filename = \"\\\"lmon1.dat\\\"\"\n",
    "lmon1.xmin = -0.04\n",
    "lmon1.xmax = 0.04\n",
    "lmon1.ymin = -0.03\n",
    "lmon1.ymax = 0.03\n",
    "lmon1.Lmin = 0.0\n",
    "lmon1.Lmax = 17.0\n",
    "lmon1.set_AT(['0.0', ' 0.0', ' 3.698'], RELATIVE=\"isis_source\")"
   ]
  },
  {
   "cell_type": "code",
   "execution_count": 8,
   "metadata": {
    "ExecuteTime": {
     "end_time": "2020-08-06T12:47:25.431881Z",
     "start_time": "2020-08-06T12:47:25.426237Z"
    }
   },
   "outputs": [],
   "source": [
    "psd1 = ISIS_SANS2d_Mantid.add_component(\"psd1\", \"PSD_monitor\")\n",
    "psd1.nx = 100\n",
    "psd1.ny = 100\n",
    "psd1.filename = \"\\\"psd1.dat\\\"\"\n",
    "psd1.xmin = -0.05\n",
    "psd1.xmax = 0.05\n",
    "psd1.ymin = -0.05\n",
    "psd1.ymax = 0.05\n",
    "psd1.set_AT(['0.0', ' 0.0', ' 3.699'], RELATIVE=\"isis_source\")"
   ]
  },
  {
   "cell_type": "code",
   "execution_count": 9,
   "metadata": {
    "ExecuteTime": {
     "end_time": "2020-08-06T12:47:26.095473Z",
     "start_time": "2020-08-06T12:47:26.068129Z"
    }
   },
   "outputs": [],
   "source": [
    "bender1 = ISIS_SANS2d_Mantid.add_component(\"bender1\", \"Guide_gravity\")\n",
    "bender1.w1 = .0355\n",
    "bender1.h1 = .020\n",
    "bender1.w2 = .0355\n",
    "bender1.h2 = .020\n",
    "bender1.l = 0.3245\n",
    "bender1.nslit = 9\n",
    "bender1.d = .0005\n",
    "bender1.mleft = 1\n",
    "bender1.mright = 3\n",
    "bender1.mtop = 1\n",
    "bender1.mbottom = 1\n",
    "bender1.wavy = 0\n",
    "bender1.set_AT(['0', ' 0', ' 3.7'], RELATIVE=\"isis_source\")\n",
    "bender1.set_ROTATED(['0.0', ' 0.137099', ' 0.0'], RELATIVE=\"isis_source\")\n",
    "\n",
    "bender2 = ISIS_SANS2d_Mantid.add_component(\"bender2\", \"Guide_gravity\")\n",
    "bender2.w1 = .0355\n",
    "bender2.h1 = .020\n",
    "bender2.w2 = .0355\n",
    "bender2.h2 = .020\n",
    "bender2.l = 0.3245\n",
    "bender2.nslit = 9\n",
    "bender2.d = .0005\n",
    "bender2.mleft = 1\n",
    "bender2.mright = 3\n",
    "bender2.mtop = 1\n",
    "bender2.mbottom = 1\n",
    "bender2.wavy = 0\n",
    "bender2.set_AT(['0', ' 0', ' 0.325'], RELATIVE=\"bender1\")\n",
    "bender2.set_ROTATED(['0.0', ' 0.1375099', ' 0.0'], RELATIVE=\"bender1\")\n",
    "\n",
    "bender3 = ISIS_SANS2d_Mantid.add_component(\"bender3\", \"Guide_gravity\")\n",
    "bender3.w1 = .0355\n",
    "bender3.h1 = .020\n",
    "bender3.w2 = .0355\n",
    "bender3.h2 = .020\n",
    "bender3.l = 0.3245\n",
    "bender3.nslit = 9\n",
    "bender3.d = .0005\n",
    "bender3.mleft = 1\n",
    "bender3.mright = 3\n",
    "bender3.mtop = 1\n",
    "bender3.mbottom = 1\n",
    "bender3.wavy = 0\n",
    "bender3.set_AT(['0', ' 0', ' 0.325'], RELATIVE=\"bender2\")\n",
    "bender3.set_ROTATED(['0.0', ' 0.1375099', ' 0.0'], RELATIVE=\"bender2\")\n",
    "\n",
    "bender4 = ISIS_SANS2d_Mantid.add_component(\"bender4\", \"Guide_gravity\")\n",
    "bender4.w1 = .0355\n",
    "bender4.h1 = .020\n",
    "bender4.w2 = .0355\n",
    "bender4.h2 = .020\n",
    "bender4.l = 0.3245\n",
    "bender4.nslit = 9\n",
    "bender4.d = .0005\n",
    "bender4.mleft = 1\n",
    "bender4.mright = 3\n",
    "bender4.mtop = 1\n",
    "bender4.mbottom = 1\n",
    "bender4.wavy = 0\n",
    "bender4.set_AT(['0', ' 0', ' 0.325'], RELATIVE=\"bender3\")\n",
    "bender4.set_ROTATED(['0.0', ' 0.1375099', ' 0.0'], RELATIVE=\"bender3\")\n",
    "\n",
    "bender5 = ISIS_SANS2d_Mantid.add_component(\"bender5\", \"Guide_gravity\")\n",
    "bender5.w1 = .0355\n",
    "bender5.h1 = .020\n",
    "bender5.w2 = .0355\n",
    "bender5.h2 = .020\n",
    "bender5.l = 0.3245\n",
    "bender5.nslit = 9\n",
    "bender5.d = .0005\n",
    "bender5.mleft = 1\n",
    "bender5.mright = 3\n",
    "bender5.mtop = 1\n",
    "bender5.mbottom = 1\n",
    "bender5.wavy = 0\n",
    "bender5.set_AT(['0', ' 0', ' 0.325'], RELATIVE=\"bender4\")\n",
    "bender5.set_ROTATED(['0.0', ' 0.1375099', ' 0.0'], RELATIVE=\"bender4\")\n",
    "\n",
    "bender6 = ISIS_SANS2d_Mantid.add_component(\"bender6\", \"Guide_gravity\")\n",
    "bender6.w1 = .0355\n",
    "bender6.h1 = .020\n",
    "bender6.w2 = .0355\n",
    "bender6.h2 = .020\n",
    "bender6.l = 0.3245\n",
    "bender6.nslit = 9\n",
    "bender6.d = .0005\n",
    "bender6.mleft = 1\n",
    "bender6.mright = 3\n",
    "bender6.mtop = 1\n",
    "bender6.mbottom = 1\n",
    "bender6.wavy = 0\n",
    "bender6.set_AT(['0', ' 0', ' 0.325'], RELATIVE=\"bender5\")\n",
    "bender6.set_ROTATED(['0.0', ' 0.1375099', ' 0.0'], RELATIVE=\"bender5\")\n",
    "\n",
    "bender7 = ISIS_SANS2d_Mantid.add_component(\"bender7\", \"Guide_gravity\")\n",
    "bender7.w1 = .0355\n",
    "bender7.h1 = .020\n",
    "bender7.w2 = .0355\n",
    "bender7.h2 = .020\n",
    "bender7.l = 0.3245\n",
    "bender7.nslit = 9\n",
    "bender7.d = .0005\n",
    "bender7.mleft = 1\n",
    "bender7.mright = 3\n",
    "bender7.mtop = 1\n",
    "bender7.mbottom = 1\n",
    "bender7.wavy = 0\n",
    "bender7.set_AT(['0', ' 0', ' 0.325'], RELATIVE=\"bender6\")\n",
    "bender7.set_ROTATED(['0.0', ' 0.1375099', ' 0.0'], RELATIVE=\"bender6\")\n",
    "\n",
    "bender8 = ISIS_SANS2d_Mantid.add_component(\"bender8\", \"Guide_gravity\")\n",
    "bender8.w1 = .0355\n",
    "bender8.h1 = .020\n",
    "bender8.w2 = .0355\n",
    "bender8.h2 = .020\n",
    "bender8.l = 0.3245\n",
    "bender8.nslit = 9\n",
    "bender8.d = .0005\n",
    "bender8.mleft = 1\n",
    "bender8.mright = 3\n",
    "bender8.mtop = 1\n",
    "bender8.mbottom = 1\n",
    "bender8.wavy = 0\n",
    "bender8.set_AT(['0', ' 0', ' 0.325'], RELATIVE=\"bender7\")\n",
    "bender8.set_ROTATED(['0.0', ' 0.1375099', ' 0.0'], RELATIVE=\"bender7\")\n",
    "\n",
    "bender9 = ISIS_SANS2d_Mantid.add_component(\"bender9\", \"Guide_gravity\")\n",
    "bender9.w1 = .0355\n",
    "bender9.h1 = .020\n",
    "bender9.w2 = .0355\n",
    "bender9.h2 = .020\n",
    "bender9.l = 0.3245\n",
    "bender9.nslit = 9\n",
    "bender9.d = .0005\n",
    "bender9.mleft = 1\n",
    "bender9.mright = 3\n",
    "bender9.mtop = 1\n",
    "bender9.mbottom = 1\n",
    "bender9.wavy = 0\n",
    "bender9.set_AT(['0', ' 0', ' 0.325'], RELATIVE=\"bender8\")\n",
    "bender9.set_ROTATED(['0.0', ' 0.1375099', ' 0.0'], RELATIVE=\"bender8\")\n",
    "\n",
    "bender10 = ISIS_SANS2d_Mantid.add_component(\"bender10\", \"Guide_gravity\")\n",
    "bender10.w1 = .0355\n",
    "bender10.h1 = .020\n",
    "bender10.w2 = .0355\n",
    "bender10.h2 = .020\n",
    "bender10.l = 0.3245\n",
    "bender10.nslit = 9\n",
    "bender10.d = .0005\n",
    "bender10.mleft = 1\n",
    "bender10.mright = 3\n",
    "bender10.mtop = 1\n",
    "bender10.mbottom = 1\n",
    "bender10.wavy = 0\n",
    "bender10.set_AT(['0', ' 0', ' 0.325'], RELATIVE=\"bender9\")\n",
    "bender10.set_ROTATED(['0.0', ' 0.1375099', ' 0.0'], RELATIVE=\"bender9\")"
   ]
  },
  {
   "cell_type": "code",
   "execution_count": 10,
   "metadata": {
    "ExecuteTime": {
     "end_time": "2020-08-06T12:47:26.806056Z",
     "start_time": "2020-08-06T12:47:26.800927Z"
    }
   },
   "outputs": [],
   "source": [
    "lmonb = ISIS_SANS2d_Mantid.add_component(\"lmonb\", \"L_monitor\")\n",
    "lmonb.nL = 140\n",
    "lmonb.filename = \"\\\"lmonB.dat\\\"\"\n",
    "lmonb.xmin = -0.018\n",
    "lmonb.xmax = 0.018\n",
    "lmonb.ymin = -0.018\n",
    "lmonb.ymax = 0.018\n",
    "lmonb.Lmin = 0.0\n",
    "lmonb.Lmax = 17.0\n",
    "lmonb.set_AT(['0.0', ' 0.0', ' 0.326'], RELATIVE=\"bender10\")"
   ]
  },
  {
   "cell_type": "code",
   "execution_count": 11,
   "metadata": {
    "ExecuteTime": {
     "end_time": "2020-08-06T12:47:27.649262Z",
     "start_time": "2020-08-06T12:47:27.644203Z"
    }
   },
   "outputs": [],
   "source": [
    "psd2 = ISIS_SANS2d_Mantid.add_component(\"psd2\", \"PSD_monitor\")\n",
    "psd2.nx = 100\n",
    "psd2.ny = 100\n",
    "psd2.filename = \"\\\"psd2.dat\\\"\"\n",
    "psd2.xmin = -0.025\n",
    "psd2.xmax = 0.025\n",
    "psd2.ymin = -0.025\n",
    "psd2.ymax = 0.025\n",
    "psd2.set_AT(['0.0', ' 0.0', ' 0.001'], RELATIVE=\"lmonb\")"
   ]
  },
  {
   "cell_type": "code",
   "execution_count": 12,
   "metadata": {
    "ExecuteTime": {
     "end_time": "2020-08-06T12:47:28.286819Z",
     "start_time": "2020-08-06T12:47:28.281500Z"
    }
   },
   "outputs": [],
   "source": [
    "guide_in = ISIS_SANS2d_Mantid.add_component(\"guide_in\", \"Slit\")\n",
    "guide_in.xmin = -0.015\n",
    "guide_in.xmax = 0.015\n",
    "guide_in.ymin = -.01\n",
    "guide_in.ymax = +.01\n",
    "guide_in.set_AT(['0', ' 0', ' 0.2845'], RELATIVE=\"psd2\")"
   ]
  },
  {
   "cell_type": "code",
   "execution_count": 13,
   "metadata": {
    "ExecuteTime": {
     "end_time": "2020-08-06T12:47:28.969303Z",
     "start_time": "2020-08-06T12:47:28.958859Z"
    }
   },
   "outputs": [],
   "source": [
    "guide_straight1 = ISIS_SANS2d_Mantid.add_component(\"guide_straight1\", \"Guide_gravity\")\n",
    "guide_straight1.w1 = .030\n",
    "guide_straight1.h1 = .020\n",
    "guide_straight1.w2 = .030\n",
    "guide_straight1.h2 = .020\n",
    "guide_straight1.l = 1.985\n",
    "guide_straight1.mleft = 1\n",
    "guide_straight1.mright = 1\n",
    "guide_straight1.mtop = 1\n",
    "guide_straight1.mbottom = 1\n",
    "guide_straight1.wavy = 0\n",
    "guide_straight1.set_AT(['0', ' 0', ' 0.0075'], RELATIVE=\"guide_in\")\n",
    "\n",
    "guide_straight2 = ISIS_SANS2d_Mantid.add_component(\"guide_straight2\", \"Guide_gravity\")\n",
    "guide_straight2.w1 = .030\n",
    "guide_straight2.h1 = .020\n",
    "guide_straight2.w2 = .030\n",
    "guide_straight2.h2 = .020\n",
    "guide_straight2.l = 1.985\n",
    "guide_straight2.mleft = 1\n",
    "guide_straight2.mright = 1\n",
    "guide_straight2.mtop = 1\n",
    "guide_straight2.mbottom = 1\n",
    "guide_straight2.wavy = 0\n",
    "guide_straight2.set_AT(['0', ' 0', ' 2.000'], RELATIVE=\"guide_straight1\")\n",
    "\n",
    "guide_straight3 = ISIS_SANS2d_Mantid.add_component(\"guide_straight3\", \"Guide_gravity\")\n",
    "guide_straight3.w1 = .030\n",
    "guide_straight3.h1 = .020\n",
    "guide_straight3.w2 = .030\n",
    "guide_straight3.h2 = .020\n",
    "guide_straight3.l = 1.985\n",
    "guide_straight3.mleft = 1\n",
    "guide_straight3.mright = 1\n",
    "guide_straight3.mtop = 1\n",
    "guide_straight3.mbottom = 1\n",
    "guide_straight3.wavy = 0\n",
    "guide_straight3.set_AT(['0', ' 0', ' 2.000'], RELATIVE=\"guide_straight2\")\n",
    "\n",
    "guide_straight4 = ISIS_SANS2d_Mantid.add_component(\"guide_straight4\", \"Guide_gravity\")\n",
    "guide_straight4.w1 = .030\n",
    "guide_straight4.h1 = .020\n",
    "guide_straight4.w2 = .030\n",
    "guide_straight4.h2 = .020\n",
    "guide_straight4.l = 1.985\n",
    "guide_straight4.mleft = 1\n",
    "guide_straight4.mright = 1\n",
    "guide_straight4.mtop = 1\n",
    "guide_straight4.mbottom = 1\n",
    "guide_straight4.wavy = 0\n",
    "guide_straight4.set_AT(['0', ' 0', ' 2.000'], RELATIVE=\"guide_straight3\")"
   ]
  },
  {
   "cell_type": "code",
   "execution_count": 14,
   "metadata": {
    "ExecuteTime": {
     "end_time": "2020-08-06T12:47:29.566664Z",
     "start_time": "2020-08-06T12:47:29.560967Z"
    }
   },
   "outputs": [],
   "source": [
    "psd3 = ISIS_SANS2d_Mantid.add_component(\"psd3\", \"PSD_monitor\")\n",
    "psd3.nx = 100\n",
    "psd3.ny = 100\n",
    "psd3.filename = \"\\\"psd3.dat\\\"\"\n",
    "psd3.xmin = -0.030\n",
    "psd3.xmax = 0.030\n",
    "psd3.ymin = -0.030\n",
    "psd3.ymax = 0.030\n",
    "psd3.set_AT(['0.0', ' 0.0', ' 7.999'], RELATIVE=\"guide_in\")"
   ]
  },
  {
   "cell_type": "code",
   "execution_count": 15,
   "metadata": {
    "ExecuteTime": {
     "end_time": "2020-08-06T12:47:30.121561Z",
     "start_time": "2020-08-06T12:47:30.117197Z"
    }
   },
   "outputs": [],
   "source": [
    "aperture1 = ISIS_SANS2d_Mantid.add_component(\"aperture1\", \"Slit\")\n",
    "aperture1.xwidth = \"A1w\"\n",
    "aperture1.yheight = \"A1h\"\n",
    "aperture1.set_AT(['0', ' 0', ' 8.000'], RELATIVE=\"guide_in\")"
   ]
  },
  {
   "cell_type": "code",
   "execution_count": 16,
   "metadata": {
    "ExecuteTime": {
     "end_time": "2020-08-06T12:47:30.751016Z",
     "start_time": "2020-08-06T12:47:30.745336Z"
    }
   },
   "outputs": [],
   "source": [
    "lmonitor2 = ISIS_SANS2d_Mantid.add_component(\"lmonitor2\", \"L_monitor\")\n",
    "lmonitor2.nL = 140\n",
    "lmonitor2.filename = \"\\\"lmonitor2.dat\\\"\"\n",
    "lmonitor2.xmin = -0.0155\n",
    "lmonitor2.xmax = 0.0155\n",
    "lmonitor2.ymin = -0.0105\n",
    "lmonitor2.ymax = 0.0105\n",
    "lmonitor2.Lmin = 0.0\n",
    "lmonitor2.Lmax = 17.0\n",
    "lmonitor2.set_AT(['0.0', ' 0.0', ' 2.651'], RELATIVE=\"aperture1\")"
   ]
  },
  {
   "cell_type": "code",
   "execution_count": 17,
   "metadata": {
    "ExecuteTime": {
     "end_time": "2020-08-06T12:47:31.334510Z",
     "start_time": "2020-08-06T12:47:31.330325Z"
    }
   },
   "outputs": [],
   "source": [
    "S6 = ISIS_SANS2d_Mantid.add_component(\"S6\", \"Slit\")\n",
    "S6.radius = \"S6\"\n",
    "S6.set_AT(['0', ' 0', ' 2.800'], RELATIVE=\"aperture1\")"
   ]
  },
  {
   "cell_type": "code",
   "execution_count": 18,
   "metadata": {
    "ExecuteTime": {
     "end_time": "2020-08-06T12:47:32.155512Z",
     "start_time": "2020-08-06T12:47:32.151126Z"
    }
   },
   "outputs": [],
   "source": [
    "sourceMantid = ISIS_SANS2d_Mantid.add_component(\"sourceMantid\", \"Arm\")\n",
    "sourceMantid.set_AT(['0', ' 0', ' -18.087'], RELATIVE=\"S6\")"
   ]
  },
  {
   "cell_type": "code",
   "execution_count": 19,
   "metadata": {
    "ExecuteTime": {
     "end_time": "2020-08-06T12:47:32.788428Z",
     "start_time": "2020-08-06T12:47:32.784529Z"
    }
   },
   "outputs": [],
   "source": [
    "APERTURE2 = ISIS_SANS2d_Mantid.add_component(\"APERTURE2\", \"Slit\")\n",
    "APERTURE2.radius = \"A2\"\n",
    "APERTURE2.set_AT(['0', ' 0', ' L1 '], RELATIVE=\"aperture1\")"
   ]
  },
  {
   "cell_type": "code",
   "execution_count": 20,
   "metadata": {
    "ExecuteTime": {
     "end_time": "2020-08-06T12:47:33.471358Z",
     "start_time": "2020-08-06T12:47:33.465739Z"
    }
   },
   "outputs": [],
   "source": [
    "lmon2 = ISIS_SANS2d_Mantid.add_component(\"lmon2\", \"L_monitor\")\n",
    "lmon2.nL = 140\n",
    "lmon2.filename = \"\\\"Edet0.dat\\\"\"\n",
    "lmon2.xmin = -0.0075\n",
    "lmon2.xmax = 0.0075\n",
    "lmon2.ymin = -0.0075\n",
    "lmon2.ymax = 0.0075\n",
    "lmon2.Lmin = 0.0\n",
    "lmon2.Lmax = 17.0\n",
    "lmon2.set_AT(['0.0', ' 0.0', ' 0.285'], RELATIVE=\"APERTURE2\")"
   ]
  },
  {
   "cell_type": "code",
   "execution_count": 21,
   "metadata": {
    "ExecuteTime": {
     "end_time": "2020-08-06T12:47:34.246731Z",
     "start_time": "2020-08-06T12:47:34.240262Z"
    }
   },
   "outputs": [],
   "source": [
    "psd4 = ISIS_SANS2d_Mantid.add_component(\"psd4\", \"PSD_monitor\")\n",
    "psd4.nx = 100\n",
    "psd4.ny = 100\n",
    "psd4.filename = \"\\\"psd4.dat\\\"\"\n",
    "psd4.xmin = -0.0075\n",
    "psd4.xmax = 0.0075\n",
    "psd4.ymin = -0.0075\n",
    "psd4.ymax = 0.0075\n",
    "psd4.set_AT(['0.0', ' 0.0', ' 0.286'], RELATIVE=\"APERTURE2\")\n",
    "\n",
    "psd5 = ISIS_SANS2d_Mantid.add_component(\"psd5\", \"PSD_monitor\")\n",
    "psd5.nx = 100\n",
    "psd5.ny = 100\n",
    "psd5.filename = \"\\\"psd5.dat\\\"\"\n",
    "psd5.xmin = -0.0075\n",
    "psd5.xmax = 0.0075\n",
    "psd5.ymin = -0.0075\n",
    "psd5.ymax = 0.0075\n",
    "psd5.restore_neutron = 1\n",
    "psd5.set_AT(['0.0', ' 0.0', ' 0.18'], RELATIVE=\"psd4\")"
   ]
  },
  {
   "cell_type": "code",
   "execution_count": 22,
   "metadata": {
    "ExecuteTime": {
     "end_time": "2020-08-06T12:47:34.971049Z",
     "start_time": "2020-08-06T12:47:34.964428Z"
    }
   },
   "outputs": [],
   "source": [
    "sampleMantid = ISIS_SANS2d_Mantid.add_component(\"sampleMantid\", \"SANS_benchmark2\")\n",
    "sampleMantid.xwidth = 0.01\n",
    "sampleMantid.yheight = 0.01\n",
    "sampleMantid.zthick = 0.001\n",
    "sampleMantid.model = \"model_nr\"\n",
    "sampleMantid.dsdw_inc = 0.0\n",
    "sampleMantid.sc_aim = 1.0\n",
    "sampleMantid.sans_aim = 1.00\n",
    "sampleMantid.singlesp = 1.0\n",
    "sampleMantid.append_EXTEND(\"if (!SCATTERED) ABSORB;\")\n",
    "sampleMantid.set_SPLIT(\"\")\n",
    "sampleMantid.set_AT(['0', ' 0', ' 0.2'], RELATIVE=\"psd4\")"
   ]
  },
  {
   "cell_type": "code",
   "execution_count": 23,
   "metadata": {
    "ExecuteTime": {
     "end_time": "2020-08-06T12:47:35.623865Z",
     "start_time": "2020-08-06T12:47:35.619074Z"
    }
   },
   "outputs": [],
   "source": [
    "detector = ISIS_SANS2d_Mantid.add_component(\"detector\", \"PSD_monitor\")\n",
    "detector.nx = 200\n",
    "detector.ny = 200\n",
    "detector.filename = \"\\\"PSD.dat\\\"\"\n",
    "detector.xmin = -0.5\n",
    "detector.xmax = 0.5\n",
    "detector.ymin = -0.5\n",
    "detector.ymax = 0.5\n",
    "detector.restore_neutron = 1\n",
    "detector.set_AT(['0', ' 0', ' 3.9'], RELATIVE=\"sampleMantid\")"
   ]
  },
  {
   "cell_type": "code",
   "execution_count": 24,
   "metadata": {
    "ExecuteTime": {
     "end_time": "2020-08-06T12:47:36.262852Z",
     "start_time": "2020-08-06T12:47:36.256916Z"
    }
   },
   "outputs": [],
   "source": [
    "nD_Mantid_1 = ISIS_SANS2d_Mantid.add_component(\"nD_Mantid_1\", \"Monitor_nD\")\n",
    "nD_Mantid_1.xmin = -0.5\n",
    "nD_Mantid_1.xmax = 0.5\n",
    "nD_Mantid_1.ymin = -0.5\n",
    "nD_Mantid_1.ymax = 0.5\n",
    "nD_Mantid_1.restore_neutron = 1\n",
    "nD_Mantid_1.options = \"\\\"mantid square x limits=[-0.5 0.5] bins=128 y limits=[-0.5 0.5] bins=128,, neutron pixel t,, list all neutrons\\\"\"\n",
    "nD_Mantid_1.filename = \"\\\"bank01_events.dat\\\"\"\n",
    "nD_Mantid_1.set_AT(['0', ' 0', ' 3.9'], RELATIVE=\"sampleMantid\")"
   ]
  },
  {
   "cell_type": "code",
   "execution_count": 25,
   "metadata": {
    "ExecuteTime": {
     "end_time": "2020-08-06T12:47:37.561562Z",
     "start_time": "2020-08-06T12:47:37.556170Z"
    }
   },
   "outputs": [],
   "source": [
    "lmon_post = ISIS_SANS2d_Mantid.add_component(\"lmon_post\", \"L_monitor\")\n",
    "lmon_post.nL = 140\n",
    "lmon_post.filename = \"\\\"lmonitor_post.dat\\\"\"\n",
    "lmon_post.xmin = -0.5\n",
    "lmon_post.xmax = 0.5\n",
    "lmon_post.ymin = -0.5\n",
    "lmon_post.ymax = 0.5\n",
    "lmon_post.Lmin = 0.0\n",
    "lmon_post.Lmax = 17.0\n",
    "lmon_post.restore_neutron = 1\n",
    "lmon_post.set_AT(['0.0', ' 0.0', ' 3.9'], RELATIVE=\"sampleMantid\")"
   ]
  },
  {
   "cell_type": "markdown",
   "metadata": {},
   "source": [
    "# McStas Simulation"
   ]
  },
  {
   "cell_type": "markdown",
   "metadata": {},
   "source": [
    "## Run McStas"
   ]
  },
  {
   "cell_type": "code",
   "execution_count": 26,
   "metadata": {
    "ExecuteTime": {
     "end_time": "2020-08-06T12:47:50.400230Z",
     "start_time": "2020-08-06T12:47:40.029277Z"
    }
   },
   "outputs": [
    {
     "name": "stdout",
     "output_type": "stream",
     "text": [
      "/usr/bin/mcrun: 14: [[: not found\n",
      "INFO: Using directory: \"/home/stelladambrumenil/github_things/MoodleJupyterHub/notebooks/data_1E5_nr15\"\n",
      "INFO: Regenerating c-file: ISIS_SANS2d_Mantid_generated.c\n",
      "Info:    'ISIS_moderator' is a contributed component.\n",
      "Info:    'SANS_benchmark2' is a contributed component.\n",
      "CFLAGS=\n",
      "INFO: Recompiling: ./ISIS_SANS2d_Mantid_generated.out\n",
      "./ISIS_SANS2d_Mantid_generated.c:588: warning: \"MC_RAND_MAX\" redefined\n",
      "  588 | #  define MC_RAND_MAX ULONG_MAX\n",
      "      | \n",
      "./ISIS_SANS2d_Mantid_generated.c:560: note: this is the location of the previous definition\n",
      "  560 | #  define MC_RAND_MAX ((unsigned long)0xffffffff)\n",
      "      | \n",
      "./ISIS_SANS2d_Mantid_generated.c: In function ‘sighandler’:\n",
      "./ISIS_SANS2d_Mantid_generated.c:5280:5: warning: implicit declaration of function ‘kill’ [-Wimplicit-function-declaration]\n",
      " 5280 |     kill(0, SIGKILL); /* kill myself if error occurs within sighandler: loops */\n",
      "      |     ^~~~\n",
      "./ISIS_SANS2d_Mantid_generated.c: In function ‘mcsetstate’:\n",
      "./ISIS_SANS2d_Mantid_generated.c:5516:22: warning: assignment to ‘void *’ from ‘int’ makes pointer from integer without a cast [-Wint-conversion]\n",
      " 5516 |   mcneutron.mcMagnet = mcMagnet;\n",
      "      |                      ^\n",
      "./ISIS_SANS2d_Mantid_generated.c: In function ‘Table_Read_Handle’:\n",
      "./ISIS_SANS2d_Mantid_generated.c:7331:18: warning: implicit declaration of function ‘strncasecmp’; did you mean ‘strcasecmp’? [-Wimplicit-function-declaration]\n",
      " 7331 |             if (!strncasecmp(lexeme,\"NaN\",3))\n",
      "      |                  ^~~~~~~~~~~\n",
      "      |                  strcasecmp\n",
      "./ISIS_SANS2d_Mantid_generated.c: In function ‘Open_File.part.0’:\n",
      "./ISIS_SANS2d_Mantid_generated.c:7008:41: warning: ‘__builtin___snprintf_chk’ output may be truncated before the last format character [-Wformat-truncation=]\n",
      " 7008 |             snprintf(path, 1024, \"%s%c%s\", dir, MC_PATHSEP_C, File);\n",
      "      |                                         ^\n",
      "In file included from /usr/include/stdio.h:867,\n",
      "                 from ./ISIS_SANS2d_Mantid_generated.c:167:\n",
      "/usr/include/x86_64-linux-gnu/bits/stdio2.h:67:10: note: ‘__builtin___snprintf_chk’ output 2 or more bytes (assuming 1025) into a destination of size 1024\n",
      "   67 |   return __builtin___snprintf_chk (__s, __n, __USE_FORTIFY_LEVEL - 1,\n",
      "      |          ^~~~~~~~~~~~~~~~~~~~~~~~~~~~~~~~~~~~~~~~~~~~~~~~~~~~~~~~~~~~\n",
      "   68 |        __bos (__s), __fmt, __va_arg_pack ());\n",
      "      |        ~~~~~~~~~~~~~~~~~~~~~~~~~~~~~~~~~~~~~\n",
      "./ISIS_SANS2d_Mantid_generated.c:7023:41: warning: ‘__builtin___snprintf_chk’ output may be truncated before the last format character [-Wformat-truncation=]\n",
      " 7023 |             snprintf(path, 1024, \"%s%c%s\", dir, MC_PATHSEP_C, File);\n",
      "      |                                         ^\n",
      "In file included from /usr/include/stdio.h:867,\n",
      "                 from ./ISIS_SANS2d_Mantid_generated.c:167:\n",
      "/usr/include/x86_64-linux-gnu/bits/stdio2.h:67:10: note: ‘__builtin___snprintf_chk’ output 2 or more bytes (assuming 1025) into a destination of size 1024\n",
      "   67 |   return __builtin___snprintf_chk (__s, __n, __USE_FORTIFY_LEVEL - 1,\n",
      "      |          ^~~~~~~~~~~~~~~~~~~~~~~~~~~~~~~~~~~~~~~~~~~~~~~~~~~~~~~~~~~~\n",
      "   68 |        __bos (__s), __fmt, __va_arg_pack ());\n",
      "      |        ~~~~~~~~~~~~~~~~~~~~~~~~~~~~~~~~~~~~~\n",
      "./ISIS_SANS2d_Mantid_generated.c:7031:37: warning: ‘__builtin___snprintf_chk’ output may be truncated before the last format character [-Wformat-truncation=]\n",
      " 7031 |         snprintf(path, 1024, \"%s%c%s\", dir, MC_PATHSEP_C, File);\n",
      "      |                                     ^\n",
      "In file included from /usr/include/stdio.h:867,\n",
      "                 from ./ISIS_SANS2d_Mantid_generated.c:167:\n",
      "/usr/include/x86_64-linux-gnu/bits/stdio2.h:67:10: note: ‘__builtin___snprintf_chk’ output 2 or more bytes (assuming 1025) into a destination of size 1024\n",
      "   67 |   return __builtin___snprintf_chk (__s, __n, __USE_FORTIFY_LEVEL - 1,\n",
      "      |          ^~~~~~~~~~~~~~~~~~~~~~~~~~~~~~~~~~~~~~~~~~~~~~~~~~~~~~~~~~~~\n",
      "   68 |        __bos (__s), __fmt, __va_arg_pack ());\n",
      "      |        ~~~~~~~~~~~~~~~~~~~~~~~~~~~~~~~~~~~~~\n",
      "./ISIS_SANS2d_Mantid_generated.c:7037:35: warning: ‘%s’ directive output may be truncated writing 4 bytes into a region of size between 0 and 1023 [-Wformat-truncation=]\n",
      " 7037 |         snprintf(path, 1024, \"%s%c%s%c%s\", dir, MC_PATHSEP_C, \"data\", MC_PATHSEP_C, File);\n",
      "      |                                   ^~                          ~~~~~~\n",
      "In file included from /usr/include/stdio.h:867,\n",
      "                 from ./ISIS_SANS2d_Mantid_generated.c:167:\n",
      "/usr/include/x86_64-linux-gnu/bits/stdio2.h:67:10: note: ‘__builtin___snprintf_chk’ output 7 or more bytes (assuming 1030) into a destination of size 1024\n",
      "   67 |   return __builtin___snprintf_chk (__s, __n, __USE_FORTIFY_LEVEL - 1,\n",
      "      |          ^~~~~~~~~~~~~~~~~~~~~~~~~~~~~~~~~~~~~~~~~~~~~~~~~~~~~~~~~~~~\n",
      "   68 |        __bos (__s), __fmt, __va_arg_pack ());\n",
      "      |        ~~~~~~~~~~~~~~~~~~~~~~~~~~~~~~~~~~~~~\n",
      "./ISIS_SANS2d_Mantid_generated.c:7043:35: warning: ‘%s’ directive output may be truncated writing 7 bytes into a region of size between 0 and 1023 [-Wformat-truncation=]\n",
      " 7043 |         snprintf(path, 1024, \"%s%c%s%c%s\", dir, MC_PATHSEP_C, \"contrib\", MC_PATHSEP_C, File);\n",
      "      |                                   ^~                          ~~~~~~~~~\n",
      "In file included from /usr/include/stdio.h:867,\n",
      "                 from ./ISIS_SANS2d_Mantid_generated.c:167:\n",
      "/usr/include/x86_64-linux-gnu/bits/stdio2.h:67:10: note: ‘__builtin___snprintf_chk’ output 10 or more bytes (assuming 1033) into a destination of size 1024\n",
      "   67 |   return __builtin___snprintf_chk (__s, __n, __USE_FORTIFY_LEVEL - 1,\n",
      "      |          ^~~~~~~~~~~~~~~~~~~~~~~~~~~~~~~~~~~~~~~~~~~~~~~~~~~~~~~~~~~~\n",
      "   68 |        __bos (__s), __fmt, __va_arg_pack ());\n",
      "      |        ~~~~~~~~~~~~~~~~~~~~~~~~~~~~~~~~~~~~~\n",
      "./ISIS_SANS2d_Mantid_generated.c: In function ‘detector_import’:\n",
      "./ISIS_SANS2d_Mantid_generated.c:2047:55: warning: ‘%s’ directive output may be truncated writing up to 1023 bytes into a region of size between 0 and 1023 [-Wformat-truncation=]\n",
      " 2047 |     snprintf(detector.variables, CHAR_BUF_LENGTH, \"%s %s_err N\", c, c);\n",
      "      |                                                       ^~            ~\n",
      "In file included from /usr/include/stdio.h:867,\n",
      "                 from ./ISIS_SANS2d_Mantid_generated.c:167:\n",
      "/usr/include/x86_64-linux-gnu/bits/stdio2.h:67:10: note: ‘__builtin___snprintf_chk’ output between 8 and 2054 bytes into a destination of size 1024\n",
      "   67 |   return __builtin___snprintf_chk (__s, __n, __USE_FORTIFY_LEVEL - 1,\n",
      "      |          ^~~~~~~~~~~~~~~~~~~~~~~~~~~~~~~~~~~~~~~~~~~~~~~~~~~~~~~~~~~~\n",
      "   68 |        __bos (__s), __fmt, __va_arg_pack ());\n",
      "      |        ~~~~~~~~~~~~~~~~~~~~~~~~~~~~~~~~~~~~~\n",
      "./ISIS_SANS2d_Mantid_generated.c:2045:55: warning: ‘%s’ directive output may be truncated writing up to 1023 bytes into a region of size between 0 and 1023 [-Wformat-truncation=]\n",
      " 2045 |     snprintf(detector.variables, CHAR_BUF_LENGTH, \"%s %s %s_err N\", detector.xvar, c, c);\n",
      "      |                                                       ^~                           ~\n",
      "In file included from /usr/include/stdio.h:867,\n",
      "                 from ./ISIS_SANS2d_Mantid_generated.c:167:\n",
      "/usr/include/x86_64-linux-gnu/bits/stdio2.h:67:10: note: ‘__builtin___snprintf_chk’ output between 9 and 3078 bytes into a destination of size 1024\n",
      "   67 |   return __builtin___snprintf_chk (__s, __n, __USE_FORTIFY_LEVEL - 1,\n",
      "      |          ^~~~~~~~~~~~~~~~~~~~~~~~~~~~~~~~~~~~~~~~~~~~~~~~~~~~~~~~~~~~\n",
      "   68 |        __bos (__s), __fmt, __va_arg_pack ());\n",
      "      |        ~~~~~~~~~~~~~~~~~~~~~~~~~~~~~~~~~~~~~\n",
      "./ISIS_SANS2d_Mantid_generated.c: In function ‘Monitor_nD_Init’:\n",
      "./ISIS_SANS2d_Mantid_generated.c:9367:33: warning: ‘%li’ directive writing between 1 and 20 bytes into a region of size between 0 and 127 [-Wformat-overflow=]\n",
      " 9367 |     sprintf(Vars->Mon_File, \"%s_%li\", Vars->compcurname, t);\n",
      "      |                                 ^~~\n",
      "In file included from /usr/include/stdio.h:867,\n",
      "                 from ./ISIS_SANS2d_Mantid_generated.c:167:\n",
      "/usr/include/x86_64-linux-gnu/bits/stdio2.h:36:10: note: ‘__builtin___sprintf_chk’ output between 3 and 149 bytes into a destination of size 128\n",
      "   36 |   return __builtin___sprintf_chk (__s, __USE_FORTIFY_LEVEL - 1,\n",
      "      |          ^~~~~~~~~~~~~~~~~~~~~~~~~~~~~~~~~~~~~~~~~~~~~~~~~~~~~~\n",
      "   37 |       __bos (__s), __fmt, __va_arg_pack ());\n",
      "      |       ~~~~~~~~~~~~~~~~~~~~~~~~~~~~~~~~~~~~~\n",
      "./ISIS_SANS2d_Mantid_generated.c: In function ‘off_display’:\n",
      "./ISIS_SANS2d_Mantid_generated.c:12080:30: warning: ‘%g’ directive writing between 1 and 13 bytes into a region of size between 0 and 1023 [-Wformat-overflow=]\n",
      "12080 |       sprintf(pixelinfo, \"%s,%g,%g,%g\", pixelinfo, x2-cmx, y2-cmy, z2-cmz);\n",
      "      |                              ^~\n",
      "./ISIS_SANS2d_Mantid_generated.c:12080:26: note: assuming directive output of 12 bytes\n",
      "12080 |       sprintf(pixelinfo, \"%s,%g,%g,%g\", pixelinfo, x2-cmx, y2-cmy, z2-cmz);\n",
      "      |                          ^~~~~~~~~~~~~\n",
      "./ISIS_SANS2d_Mantid_generated.c:12080:26: note: assuming directive output of 12 bytes\n",
      "./ISIS_SANS2d_Mantid_generated.c:12080:26: note: assuming directive output of 12 bytes\n",
      "In file included from /usr/include/stdio.h:867,\n",
      "                 from ./ISIS_SANS2d_Mantid_generated.c:167:\n",
      "/usr/include/x86_64-linux-gnu/bits/stdio2.h:36:10: note: ‘__builtin___sprintf_chk’ output between 7 and 1066 bytes into a destination of size 1024\n",
      "   36 |   return __builtin___sprintf_chk (__s, __USE_FORTIFY_LEVEL - 1,\n",
      "      |          ^~~~~~~~~~~~~~~~~~~~~~~~~~~~~~~~~~~~~~~~~~~~~~~~~~~~~~\n",
      "   37 |       __bos (__s), __fmt, __va_arg_pack ());\n",
      "      |       ~~~~~~~~~~~~~~~~~~~~~~~~~~~~~~~~~~~~~\n",
      "./ISIS_SANS2d_Mantid_generated.c: In function ‘class_ISIS_moderator_init’:\n",
      "./ISIS_SANS2d_Mantid_generated.c:14787:23: warning: ‘%s’ directive writing up to 3599 bytes into a region of size 252 [-Wformat-overflow=]\n",
      "14787 |    sprintf(fname,\"TS2.%s\",Olist[i].Name);\n",
      "      |                       ^~\n",
      "In file included from /usr/include/stdio.h:867,\n",
      "                 from ./ISIS_SANS2d_Mantid_generated.c:167:\n",
      "/usr/include/x86_64-linux-gnu/bits/stdio2.h:36:10: note: ‘__builtin___sprintf_chk’ output between 5 and 3604 bytes into a destination of size 256\n",
      "   36 |   return __builtin___sprintf_chk (__s, __USE_FORTIFY_LEVEL - 1,\n",
      "      |          ^~~~~~~~~~~~~~~~~~~~~~~~~~~~~~~~~~~~~~~~~~~~~~~~~~~~~~\n",
      "   37 |       __bos (__s), __fmt, __va_arg_pack ());\n",
      "      |       ~~~~~~~~~~~~~~~~~~~~~~~~~~~~~~~~~~~~~\n",
      "./ISIS_SANS2d_Mantid_generated.c:14784:23: warning: ‘%s’ directive writing up to 3599 bytes into a region of size 252 [-Wformat-overflow=]\n",
      "14784 |    sprintf(fname,\"TS1.%s\",Olist[i].Name);\n",
      "      |                       ^~\n",
      "In file included from /usr/include/stdio.h:867,\n",
      "                 from ./ISIS_SANS2d_Mantid_generated.c:167:\n",
      "/usr/include/x86_64-linux-gnu/bits/stdio2.h:36:10: note: ‘__builtin___sprintf_chk’ output between 5 and 3604 bytes into a destination of size 256\n",
      "   36 |   return __builtin___sprintf_chk (__s, __USE_FORTIFY_LEVEL - 1,\n",
      "      |          ^~~~~~~~~~~~~~~~~~~~~~~~~~~~~~~~~~~~~~~~~~~~~~~~~~~~~~\n",
      "   37 |       __bos (__s), __fmt, __va_arg_pack ());\n",
      "      |       ~~~~~~~~~~~~~~~~~~~~~~~~~~~~~~~~~~~~~\n",
      "INFO: ===\n",
      "**********************************************************************\n",
      "****   This is ISIS_moderator.comp version 2.0 (25/8/05)          ****\n",
      "****   Please check to see if your files are up-to-date           ****\n",
      "****   http://www.isis.rl.ac.uk/Computing/Software/MC/index.htm   ****\n",
      "**********************************************************************\n",
      "\n",
      "converting Angstroms to meV\n",
      "Face == E2 \n",
      "default xwidth used 0.08333 m\n",
      "default yheight used 0.03 m\n",
      "Energy == 0.417316 81.7939\n",
      "nEnergy == 77\n",
      "Viewport == 0.0365 0.021 Moderator size == (0.08333 * 0.03) m^2 \n",
      "Dist == 3.68 (metres) \n",
      "Viewport Solid angle == 0.000184587 str\n",
      "Solid angle used == 0.00141486 str\n",
      "Totals:: 0.000811618 77 181 \n",
      "INFO: Placing instr file copy ISIS_SANS2d_Mantid_generated.instr in dataset /home/stelladambrumenil/github_things/MoodleJupyterHub/notebooks/data_1E5_nr15\n",
      "\n",
      "      \n",
      "-----------------------------------------------------------\n",
      "\n",
      "Generating single GPU kernel or single CPU section layout: \n",
      "-> SPLIT N at component sampleMantid\n",
      "\n",
      "-----------------------------------------------------------\n",
      "\n",
      "Generating GPU/CPU -DFUNNEL layout:\n",
      "-> SPLIT within buffer at component sampleMantid\n",
      "\n",
      "-----------------------------------------------------------\n",
      "[ISIS_SANS2d_Mantid_generated] Initialize\n",
      "Opening -- /usr/share/mcstas/3.0/tools/Python/mcrun/../mccodelib/../../../contrib/ISIS_tables/TS2.e2\n",
      "*** TRACE end *** \n",
      "\n",
      "Save [ISIS_SANS2d_Mantid_generated]\n",
      "Detector: lmon1_I=3.40574e+08 lmon1_ERR=1.07699e+06 lmon1_N=100000 \"lmon1.dat\"\n",
      "Detector: psd1_I=3.40574e+08 psd1_ERR=1.07699e+06 psd1_N=100000 \"psd1.dat\"\n",
      "Detector: lmonb_I=1.46184e+08 lmonb_ERR=684100 lmonb_N=70191 \"lmonB.dat\"\n",
      "Detector: psd2_I=1.46184e+08 psd2_ERR=684100 psd2_N=70191 \"psd2.dat\"\n",
      "Detector: psd3_I=1.00776e+08 psd3_ERR=568998 psd3_N=54395 \"psd3.dat\"\n",
      "Detector: lmonitor2_I=5.02618e+07 lmonitor2_ERR=402694 lmonitor2_N=21241 \"lmonitor2.dat\"\n",
      "Detector: lmon2_I=5.77407e+06 lmon2_ERR=136831 lmon2_N=1999 \"Edet0.dat\"\n",
      "Detector: psd4_I=5.77407e+06 psd4_ERR=136831 psd4_N=1999 \"psd4.dat\"\n",
      "Detector: psd5_I=5.72082e+06 psd5_ERR=136199 psd5_N=1979 \"psd5.dat\"\n",
      "Detector: detector_I=7312.8 detector_ERR=211.199 detector_N=10603 \"PSD.dat\"\n",
      "Events:   \"bank01_events_dat_list.p.x.y.n.id.t\"\n",
      "Detector: lmon_post_I=7312.8 lmon_post_ERR=211.199 lmon_post_N=10603 \"lmonitor_post.dat\"\n",
      "\n",
      "Finally [ISIS_SANS2d_Mantid_generated: /home/stelladambrumenil/github_things/MoodleJupyterHub/notebooks/data_1E5_nr15]. Time: 1 [s] \n",
      "\n"
     ]
    }
   ],
   "source": [
    "data = ISIS_SANS2d_Mantid.run_full_instrument(foldername=\"data_1E5_nr15\", parameters={\"model_nr\":15}, ncount=1E5)"
   ]
  },
  {
   "cell_type": "code",
   "execution_count": 27,
   "metadata": {
    "ExecuteTime": {
     "end_time": "2020-08-06T12:48:04.180067Z",
     "start_time": "2020-08-06T12:47:59.858394Z"
    }
   },
   "outputs": [
    {
     "name": "stdout",
     "output_type": "stream",
     "text": [
      "Plotting data with name lmon1\n",
      "Plotting data with name psd1\n",
      "Plotting data with name lmonb\n",
      "Plotting data with name psd2\n",
      "Plotting data with name psd3\n",
      "Plotting data with name lmonitor2\n",
      "Plotting data with name lmon2\n",
      "Plotting data with name psd4\n",
      "Plotting data with name psd5\n",
      "Plotting data with name detector\n",
      "Plotting data with name nD_Mantid_1\n",
      "Plotting data with name lmon_post\n"
     ]
    },
    {
     "data": {
      "image/png": "[encoded data removed]",
      "text/plain": [
       "<Figure size 936x504 with 19 Axes>"
      ]
     },
     "metadata": {
      "needs_background": "light"
     },
     "output_type": "display_data"
    }
   ],
   "source": [
    "plot = plotter.make_sub_plot(data)"
   ]
  },
  {
   "cell_type": "markdown",
   "metadata": {},
   "source": [
    "## McStas IDF (Instrument Definition File) for Mantid"
   ]
  },
  {
   "cell_type": "code",
   "execution_count": 28,
   "metadata": {
    "ExecuteTime": {
     "end_time": "2020-08-06T12:48:07.939016Z",
     "start_time": "2020-08-06T12:48:07.935595Z"
    }
   },
   "outputs": [],
   "source": [
    "import subprocess"
   ]
  },
  {
   "cell_type": "code",
   "execution_count": 29,
   "metadata": {
    "ExecuteTime": {
     "end_time": "2020-08-06T12:48:09.066779Z",
     "start_time": "2020-08-06T12:48:09.063417Z"
    }
   },
   "outputs": [],
   "source": [
    "cmd_idf = \"mcdisplay.pl ISIS_SANS2d_Mantid_generated.instr --format=Mantid -n0 model_nr=5\""
   ]
  },
  {
   "cell_type": "code",
   "execution_count": 30,
   "metadata": {
    "ExecuteTime": {
     "end_time": "2020-08-06T12:48:10.517851Z",
     "start_time": "2020-08-06T12:48:10.185686Z"
    }
   },
   "outputs": [
    {
     "data": {
      "text/plain": [
       "0"
      ]
     },
     "execution_count": 30,
     "metadata": {},
     "output_type": "execute_result"
    }
   ],
   "source": [
    "subprocess.call([cmd_idf], shell=True)"
   ]
  },
  {
   "cell_type": "markdown",
   "metadata": {},
   "source": [
    "## Run McStas with NeXus - CLI (Command Line Interface)"
   ]
  },
  {
   "cell_type": "code",
   "execution_count": 31,
   "metadata": {
    "ExecuteTime": {
     "end_time": "2020-08-06T12:48:13.046294Z",
     "start_time": "2020-08-06T12:48:13.042744Z"
    }
   },
   "outputs": [],
   "source": [
    "cmd_nexus = \"mcstas ISIS_SANS2d_Mantid_generated.instr --trace; gcc -o ISIS_SANS2d_Mantid_generated.out ISIS_SANS2d_Mantid_generated.c -lm -DUSE_NEXUS -lNeXus -I/usr/include/nexus; ./ISIS_SANS2d_Mantid_generated.out --format=NeXus -d 1E6 --ncount=1E6 model_nr=5\" "
   ]
  },
  {
   "cell_type": "code",
   "execution_count": 32,
   "metadata": {
    "ExecuteTime": {
     "end_time": "2020-08-06T12:48:21.747069Z",
     "start_time": "2020-08-06T12:48:13.972830Z"
    }
   },
   "outputs": [
    {
     "data": {
      "text/plain": [
       "0"
      ]
     },
     "execution_count": 32,
     "metadata": {},
     "output_type": "execute_result"
    }
   ],
   "source": [
    "subprocess.call([cmd_nexus], shell=True)"
   ]
  },
  {
   "cell_type": "code",
   "execution_count": 33,
   "metadata": {
    "ExecuteTime": {
     "end_time": "2020-08-06T12:48:22.898285Z",
     "start_time": "2020-08-06T12:48:22.894441Z"
    }
   },
   "outputs": [],
   "source": [
    "data_nexus = '1E6/mccode.h5'"
   ]
  },
  {
   "cell_type": "markdown",
   "metadata": {},
   "source": [
    "## Run McStas with NeXus "
   ]
  },
  {
   "cell_type": "code",
   "execution_count": 34,
   "metadata": {},
   "outputs": [
    {
     "name": "stdout",
     "output_type": "stream",
     "text": [
      "/usr/bin/mcrun: 14: [[: not found\n",
      "INFO: Using directory: \"/home/stelladambrumenil/github_things/MoodleJupyterHub/notebooks/data_1E7_nexus_nr15\"\n",
      "INFO: Regenerating c-file: ISIS_SANS2d_Mantid_generated.c\n",
      "Info:    'ISIS_moderator' is a contributed component.\n",
      "Info:    'SANS_benchmark2' is a contributed component.\n",
      "CFLAGS=\n",
      "INFO: Recompiling: ./ISIS_SANS2d_Mantid_generated.out\n",
      "./ISIS_SANS2d_Mantid_generated.c:588: warning: \"MC_RAND_MAX\" redefined\n",
      "  588 | #  define MC_RAND_MAX ULONG_MAX\n",
      "      | \n",
      "./ISIS_SANS2d_Mantid_generated.c:560: note: this is the location of the previous definition\n",
      "  560 | #  define MC_RAND_MAX ((unsigned long)0xffffffff)\n",
      "      | \n",
      "./ISIS_SANS2d_Mantid_generated.c: In function ‘sighandler’:\n",
      "./ISIS_SANS2d_Mantid_generated.c:5280:5: warning: implicit declaration of function ‘kill’ [-Wimplicit-function-declaration]\n",
      " 5280 |     kill(0, SIGKILL); /* kill myself if error occurs within sighandler: loops */\n",
      "      |     ^~~~\n",
      "./ISIS_SANS2d_Mantid_generated.c: In function ‘mcsetstate’:\n",
      "./ISIS_SANS2d_Mantid_generated.c:5516:22: warning: assignment to ‘void *’ from ‘int’ makes pointer from integer without a cast [-Wint-conversion]\n",
      " 5516 |   mcneutron.mcMagnet = mcMagnet;\n",
      "      |                      ^\n",
      "./ISIS_SANS2d_Mantid_generated.c: In function ‘Table_Read_Handle’:\n",
      "./ISIS_SANS2d_Mantid_generated.c:7331:18: warning: implicit declaration of function ‘strncasecmp’; did you mean ‘strcasecmp’? [-Wimplicit-function-declaration]\n",
      " 7331 |             if (!strncasecmp(lexeme,\"NaN\",3))\n",
      "      |                  ^~~~~~~~~~~\n",
      "      |                  strcasecmp\n",
      "./ISIS_SANS2d_Mantid_generated.c: In function ‘Open_File.part.0’:\n",
      "./ISIS_SANS2d_Mantid_generated.c:7008:41: warning: ‘__builtin___snprintf_chk’ output may be truncated before the last format character [-Wformat-truncation=]\n",
      " 7008 |             snprintf(path, 1024, \"%s%c%s\", dir, MC_PATHSEP_C, File);\n",
      "      |                                         ^\n",
      "In file included from /usr/include/stdio.h:867,\n",
      "                 from ./ISIS_SANS2d_Mantid_generated.c:167:\n",
      "/usr/include/x86_64-linux-gnu/bits/stdio2.h:67:10: note: ‘__builtin___snprintf_chk’ output 2 or more bytes (assuming 1025) into a destination of size 1024\n",
      "   67 |   return __builtin___snprintf_chk (__s, __n, __USE_FORTIFY_LEVEL - 1,\n",
      "      |          ^~~~~~~~~~~~~~~~~~~~~~~~~~~~~~~~~~~~~~~~~~~~~~~~~~~~~~~~~~~~\n",
      "   68 |        __bos (__s), __fmt, __va_arg_pack ());\n",
      "      |        ~~~~~~~~~~~~~~~~~~~~~~~~~~~~~~~~~~~~~\n",
      "./ISIS_SANS2d_Mantid_generated.c:7023:41: warning: ‘__builtin___snprintf_chk’ output may be truncated before the last format character [-Wformat-truncation=]\n",
      " 7023 |             snprintf(path, 1024, \"%s%c%s\", dir, MC_PATHSEP_C, File);\n",
      "      |                                         ^\n",
      "In file included from /usr/include/stdio.h:867,\n",
      "                 from ./ISIS_SANS2d_Mantid_generated.c:167:\n",
      "/usr/include/x86_64-linux-gnu/bits/stdio2.h:67:10: note: ‘__builtin___snprintf_chk’ output 2 or more bytes (assuming 1025) into a destination of size 1024\n",
      "   67 |   return __builtin___snprintf_chk (__s, __n, __USE_FORTIFY_LEVEL - 1,\n",
      "      |          ^~~~~~~~~~~~~~~~~~~~~~~~~~~~~~~~~~~~~~~~~~~~~~~~~~~~~~~~~~~~\n",
      "   68 |        __bos (__s), __fmt, __va_arg_pack ());\n",
      "      |        ~~~~~~~~~~~~~~~~~~~~~~~~~~~~~~~~~~~~~\n",
      "./ISIS_SANS2d_Mantid_generated.c:7031:37: warning: ‘__builtin___snprintf_chk’ output may be truncated before the last format character [-Wformat-truncation=]\n",
      " 7031 |         snprintf(path, 1024, \"%s%c%s\", dir, MC_PATHSEP_C, File);\n",
      "      |                                     ^\n",
      "In file included from /usr/include/stdio.h:867,\n",
      "                 from ./ISIS_SANS2d_Mantid_generated.c:167:\n",
      "/usr/include/x86_64-linux-gnu/bits/stdio2.h:67:10: note: ‘__builtin___snprintf_chk’ output 2 or more bytes (assuming 1025) into a destination of size 1024\n",
      "   67 |   return __builtin___snprintf_chk (__s, __n, __USE_FORTIFY_LEVEL - 1,\n",
      "      |          ^~~~~~~~~~~~~~~~~~~~~~~~~~~~~~~~~~~~~~~~~~~~~~~~~~~~~~~~~~~~\n",
      "   68 |        __bos (__s), __fmt, __va_arg_pack ());\n",
      "      |        ~~~~~~~~~~~~~~~~~~~~~~~~~~~~~~~~~~~~~\n",
      "./ISIS_SANS2d_Mantid_generated.c:7037:35: warning: ‘%s’ directive output may be truncated writing 4 bytes into a region of size between 0 and 1023 [-Wformat-truncation=]\n",
      " 7037 |         snprintf(path, 1024, \"%s%c%s%c%s\", dir, MC_PATHSEP_C, \"data\", MC_PATHSEP_C, File);\n",
      "      |                                   ^~                          ~~~~~~\n",
      "In file included from /usr/include/stdio.h:867,\n",
      "                 from ./ISIS_SANS2d_Mantid_generated.c:167:\n",
      "/usr/include/x86_64-linux-gnu/bits/stdio2.h:67:10: note: ‘__builtin___snprintf_chk’ output 7 or more bytes (assuming 1030) into a destination of size 1024\n",
      "   67 |   return __builtin___snprintf_chk (__s, __n, __USE_FORTIFY_LEVEL - 1,\n",
      "      |          ^~~~~~~~~~~~~~~~~~~~~~~~~~~~~~~~~~~~~~~~~~~~~~~~~~~~~~~~~~~~\n",
      "   68 |        __bos (__s), __fmt, __va_arg_pack ());\n",
      "      |        ~~~~~~~~~~~~~~~~~~~~~~~~~~~~~~~~~~~~~\n",
      "./ISIS_SANS2d_Mantid_generated.c:7043:35: warning: ‘%s’ directive output may be truncated writing 7 bytes into a region of size between 0 and 1023 [-Wformat-truncation=]\n",
      " 7043 |         snprintf(path, 1024, \"%s%c%s%c%s\", dir, MC_PATHSEP_C, \"contrib\", MC_PATHSEP_C, File);\n",
      "      |                                   ^~                          ~~~~~~~~~\n",
      "In file included from /usr/include/stdio.h:867,\n",
      "                 from ./ISIS_SANS2d_Mantid_generated.c:167:\n",
      "/usr/include/x86_64-linux-gnu/bits/stdio2.h:67:10: note: ‘__builtin___snprintf_chk’ output 10 or more bytes (assuming 1033) into a destination of size 1024\n",
      "   67 |   return __builtin___snprintf_chk (__s, __n, __USE_FORTIFY_LEVEL - 1,\n",
      "      |          ^~~~~~~~~~~~~~~~~~~~~~~~~~~~~~~~~~~~~~~~~~~~~~~~~~~~~~~~~~~~\n",
      "   68 |        __bos (__s), __fmt, __va_arg_pack ());\n",
      "      |        ~~~~~~~~~~~~~~~~~~~~~~~~~~~~~~~~~~~~~\n",
      "./ISIS_SANS2d_Mantid_generated.c: In function ‘detector_import’:\n",
      "./ISIS_SANS2d_Mantid_generated.c:2047:55: warning: ‘%s’ directive output may be truncated writing up to 1023 bytes into a region of size between 0 and 1023 [-Wformat-truncation=]\n",
      " 2047 |     snprintf(detector.variables, CHAR_BUF_LENGTH, \"%s %s_err N\", c, c);\n",
      "      |                                                       ^~            ~\n",
      "In file included from /usr/include/stdio.h:867,\n",
      "                 from ./ISIS_SANS2d_Mantid_generated.c:167:\n",
      "/usr/include/x86_64-linux-gnu/bits/stdio2.h:67:10: note: ‘__builtin___snprintf_chk’ output between 8 and 2054 bytes into a destination of size 1024\n",
      "   67 |   return __builtin___snprintf_chk (__s, __n, __USE_FORTIFY_LEVEL - 1,\n",
      "      |          ^~~~~~~~~~~~~~~~~~~~~~~~~~~~~~~~~~~~~~~~~~~~~~~~~~~~~~~~~~~~\n",
      "   68 |        __bos (__s), __fmt, __va_arg_pack ());\n",
      "      |        ~~~~~~~~~~~~~~~~~~~~~~~~~~~~~~~~~~~~~\n",
      "./ISIS_SANS2d_Mantid_generated.c:2045:55: warning: ‘%s’ directive output may be truncated writing up to 1023 bytes into a region of size between 0 and 1023 [-Wformat-truncation=]\n",
      " 2045 |     snprintf(detector.variables, CHAR_BUF_LENGTH, \"%s %s %s_err N\", detector.xvar, c, c);\n",
      "      |                                                       ^~                           ~\n",
      "In file included from /usr/include/stdio.h:867,\n",
      "                 from ./ISIS_SANS2d_Mantid_generated.c:167:\n",
      "/usr/include/x86_64-linux-gnu/bits/stdio2.h:67:10: note: ‘__builtin___snprintf_chk’ output between 9 and 3078 bytes into a destination of size 1024\n",
      "   67 |   return __builtin___snprintf_chk (__s, __n, __USE_FORTIFY_LEVEL - 1,\n",
      "      |          ^~~~~~~~~~~~~~~~~~~~~~~~~~~~~~~~~~~~~~~~~~~~~~~~~~~~~~~~~~~~\n",
      "   68 |        __bos (__s), __fmt, __va_arg_pack ());\n",
      "      |        ~~~~~~~~~~~~~~~~~~~~~~~~~~~~~~~~~~~~~\n",
      "./ISIS_SANS2d_Mantid_generated.c: In function ‘Monitor_nD_Init’:\n",
      "./ISIS_SANS2d_Mantid_generated.c:9367:33: warning: ‘%li’ directive writing between 1 and 20 bytes into a region of size between 0 and 127 [-Wformat-overflow=]\n",
      " 9367 |     sprintf(Vars->Mon_File, \"%s_%li\", Vars->compcurname, t);\n",
      "      |                                 ^~~\n",
      "In file included from /usr/include/stdio.h:867,\n",
      "                 from ./ISIS_SANS2d_Mantid_generated.c:167:\n",
      "/usr/include/x86_64-linux-gnu/bits/stdio2.h:36:10: note: ‘__builtin___sprintf_chk’ output between 3 and 149 bytes into a destination of size 128\n",
      "   36 |   return __builtin___sprintf_chk (__s, __USE_FORTIFY_LEVEL - 1,\n",
      "      |          ^~~~~~~~~~~~~~~~~~~~~~~~~~~~~~~~~~~~~~~~~~~~~~~~~~~~~~\n",
      "   37 |       __bos (__s), __fmt, __va_arg_pack ());\n",
      "      |       ~~~~~~~~~~~~~~~~~~~~~~~~~~~~~~~~~~~~~\n",
      "./ISIS_SANS2d_Mantid_generated.c: In function ‘off_display’:\n",
      "./ISIS_SANS2d_Mantid_generated.c:12080:30: warning: ‘%g’ directive writing between 1 and 13 bytes into a region of size between 0 and 1023 [-Wformat-overflow=]\n",
      "12080 |       sprintf(pixelinfo, \"%s,%g,%g,%g\", pixelinfo, x2-cmx, y2-cmy, z2-cmz);\n",
      "      |                              ^~\n",
      "./ISIS_SANS2d_Mantid_generated.c:12080:26: note: assuming directive output of 12 bytes\n",
      "12080 |       sprintf(pixelinfo, \"%s,%g,%g,%g\", pixelinfo, x2-cmx, y2-cmy, z2-cmz);\n",
      "      |                          ^~~~~~~~~~~~~\n",
      "./ISIS_SANS2d_Mantid_generated.c:12080:26: note: assuming directive output of 12 bytes\n",
      "./ISIS_SANS2d_Mantid_generated.c:12080:26: note: assuming directive output of 12 bytes\n",
      "In file included from /usr/include/stdio.h:867,\n",
      "                 from ./ISIS_SANS2d_Mantid_generated.c:167:\n",
      "/usr/include/x86_64-linux-gnu/bits/stdio2.h:36:10: note: ‘__builtin___sprintf_chk’ output between 7 and 1066 bytes into a destination of size 1024\n",
      "   36 |   return __builtin___sprintf_chk (__s, __USE_FORTIFY_LEVEL - 1,\n",
      "      |          ^~~~~~~~~~~~~~~~~~~~~~~~~~~~~~~~~~~~~~~~~~~~~~~~~~~~~~\n",
      "   37 |       __bos (__s), __fmt, __va_arg_pack ());\n",
      "      |       ~~~~~~~~~~~~~~~~~~~~~~~~~~~~~~~~~~~~~\n",
      "./ISIS_SANS2d_Mantid_generated.c: In function ‘class_ISIS_moderator_init’:\n",
      "./ISIS_SANS2d_Mantid_generated.c:14787:23: warning: ‘%s’ directive writing up to 3599 bytes into a region of size 252 [-Wformat-overflow=]\n",
      "14787 |    sprintf(fname,\"TS2.%s\",Olist[i].Name);\n",
      "      |                       ^~\n",
      "In file included from /usr/include/stdio.h:867,\n",
      "                 from ./ISIS_SANS2d_Mantid_generated.c:167:\n",
      "/usr/include/x86_64-linux-gnu/bits/stdio2.h:36:10: note: ‘__builtin___sprintf_chk’ output between 5 and 3604 bytes into a destination of size 256\n",
      "   36 |   return __builtin___sprintf_chk (__s, __USE_FORTIFY_LEVEL - 1,\n",
      "      |          ^~~~~~~~~~~~~~~~~~~~~~~~~~~~~~~~~~~~~~~~~~~~~~~~~~~~~~\n",
      "   37 |       __bos (__s), __fmt, __va_arg_pack ());\n",
      "      |       ~~~~~~~~~~~~~~~~~~~~~~~~~~~~~~~~~~~~~\n",
      "./ISIS_SANS2d_Mantid_generated.c:14784:23: warning: ‘%s’ directive writing up to 3599 bytes into a region of size 252 [-Wformat-overflow=]\n",
      "14784 |    sprintf(fname,\"TS1.%s\",Olist[i].Name);\n",
      "      |                       ^~\n",
      "In file included from /usr/include/stdio.h:867,\n",
      "                 from ./ISIS_SANS2d_Mantid_generated.c:167:\n",
      "/usr/include/x86_64-linux-gnu/bits/stdio2.h:36:10: note: ‘__builtin___sprintf_chk’ output between 5 and 3604 bytes into a destination of size 256\n",
      "   36 |   return __builtin___sprintf_chk (__s, __USE_FORTIFY_LEVEL - 1,\n",
      "      |          ^~~~~~~~~~~~~~~~~~~~~~~~~~~~~~~~~~~~~~~~~~~~~~~~~~~~~~\n",
      "   37 |       __bos (__s), __fmt, __va_arg_pack ());\n",
      "      |       ~~~~~~~~~~~~~~~~~~~~~~~~~~~~~~~~~~~~~\n",
      "INFO: ===\n",
      "Warning: You have requested the output format NeXus which is unsupported by this binary. Resetting to standard McCode format.\n",
      "**********************************************************************\n",
      "****   This is ISIS_moderator.comp version 2.0 (25/8/05)          ****\n",
      "****   Please check to see if your files are up-to-date           ****\n",
      "****   http://www.isis.rl.ac.uk/Computing/Software/MC/index.htm   ****\n",
      "**********************************************************************\n",
      "\n",
      "converting Angstroms to meV\n",
      "Face == E2 \n",
      "default xwidth used 0.08333 m\n",
      "default yheight used 0.03 m\n",
      "Energy == 0.417316 81.7939\n",
      "nEnergy == 77\n",
      "Viewport == 0.0365 0.021 Moderator size == (0.08333 * 0.03) m^2 \n",
      "Dist == 3.68 (metres) \n",
      "Viewport Solid angle == 0.000184587 str\n",
      "Solid angle used == 0.00141486 str\n",
      "Totals:: 0.000811618 77 181 \n",
      "INFO: Placing instr file copy ISIS_SANS2d_Mantid_generated.instr in dataset /home/stelladambrumenil/github_things/MoodleJupyterHub/notebooks/data_1E7_nexus_nr15\n",
      "\n",
      "      \n",
      "-----------------------------------------------------------\n",
      "\n",
      "Generating single GPU kernel or single CPU section layout: \n",
      "-> SPLIT N at component sampleMantid\n",
      "\n",
      "-----------------------------------------------------------\n",
      "\n",
      "Generating GPU/CPU -DFUNNEL layout:\n",
      "-> SPLIT within buffer at component sampleMantid\n",
      "\n",
      "-----------------------------------------------------------\n",
      "[ISIS_SANS2d_Mantid_generated] Initialize\n",
      "Opening -- /usr/share/mcstas/3.0/tools/Python/mcrun/../mccodelib/../../../contrib/ISIS_tables/TS2.e2\n",
      "\n",
      "Trace ETA 23 [s] % 46 50 60 70 80 90 Events:   \"bank01_events_dat_list.p.x.y.n.id.t\"\n",
      "*** TRACE end *** \n",
      "\n",
      "Save [ISIS_SANS2d_Mantid_generated]\n",
      "Detector: lmon1_I=3.40574e+08 lmon1_ERR=107699 lmon1_N=1e+07 \"lmon1.dat\"\n",
      "Detector: psd1_I=3.40574e+08 psd1_ERR=107699 psd1_N=1e+07 \"psd1.dat\"\n",
      "Detector: lmonb_I=1.46738e+08 lmonb_ERR=68550.6 lmonb_N=7.02056e+06 \"lmonB.dat\"\n",
      "Detector: psd2_I=1.46738e+08 psd2_ERR=68550.6 psd2_N=7.02056e+06 \"psd2.dat\"\n",
      "Detector: psd3_I=1.00974e+08 psd3_ERR=56962.7 psd3_N=5.43808e+06 \"psd3.dat\"\n",
      "Detector: lmonitor2_I=5.00319e+07 lmonitor2_ERR=40178.2 lmonitor2_N=2.09535e+06 \"lmonitor2.dat\"\n",
      "Detector: lmon2_I=5.57811e+06 lmon2_ERR=13434.7 lmon2_N=194662 \"Edet0.dat\"\n",
      "Detector: psd4_I=5.57811e+06 psd4_ERR=13434.7 psd4_N=194662 \"psd4.dat\"\n",
      "Detector: psd5_I=5.53554e+06 psd5_ERR=13383.4 psd5_N=192938 \"psd5.dat\"\n",
      "Detector: detector_I=6921.7 detector_ERR=20.2076 detector_N=1.02916e+06 \"PSD.dat\"\n",
      "Detector: lmon_post_I=6921.7 lmon_post_ERR=20.2076 lmon_post_N=1.02916e+06 \"lmonitor_post.dat\"\n",
      "\n",
      "Finally [ISIS_SANS2d_Mantid_generated: /home/stelladambrumenil/github_things/MoodleJupyterHub/notebooks/data_1E7_nexus_nr15]. Time: 24 [s] \n",
      "\n"
     ]
    }
   ],
   "source": [
    "data_nexus = ISIS_SANS2d_Mantid.run_full_instrument(foldername=\"data_1E7_nexus_nr15\", parameters={\"model_nr\":15}, ncount=1E7, custom_flags=\" -c --format=NeXus \")"
   ]
  },
  {
   "cell_type": "code",
   "execution_count": 35,
   "metadata": {
    "ExecuteTime": {
     "end_time": "2020-08-06T09:42:23.509290Z",
     "start_time": "2020-08-06T09:42:23.504225Z"
    }
   },
   "outputs": [
    {
     "name": "stdout",
     "output_type": "stream",
     "text": [
      "[\n",
      "McStasData: nD_Mantid_1 type: 2D  I:0 E:0 N:0, \n",
      "McStasData: lmon1 type: 1D  I:3.40574e+08 E:107699 N:1e+07, \n",
      "McStasData: psd1 type: 2D  I:3.40574e+08 E:107699 N:1e+07, \n",
      "McStasData: lmonb type: 1D  I:1.46738e+08 E:68550.6 N:7.02056e+06, \n",
      "McStasData: psd2 type: 2D  I:1.46738e+08 E:68550.6 N:7.02056e+06, \n",
      "McStasData: psd3 type: 2D  I:1.00974e+08 E:56962.7 N:5.43808e+06, \n",
      "McStasData: lmonitor2 type: 1D  I:5.00319e+07 E:40178.2 N:2.09535e+06, \n",
      "McStasData: lmon2 type: 1D  I:5.57811e+06 E:13434.7 N:194662, \n",
      "McStasData: psd4 type: 2D  I:5.57811e+06 E:13434.7 N:194662, \n",
      "McStasData: psd5 type: 2D  I:5.53554e+06 E:13383.4 N:192938, \n",
      "McStasData: detector type: 2D  I:6921.7 E:20.2076 N:1.02916e+06, \n",
      "McStasData: lmon_post type: 1D  I:6921.7 E:20.2076 N:1.02916e+06]\n"
     ]
    }
   ],
   "source": [
    "print(data_nexus)"
   ]
  }
 ],
 "metadata": {
  "kernelspec": {
   "display_name": "Python 3",
   "language": "python",
   "name": "python3"
  },
  "language_info": {
   "codemirror_mode": {
    "name": "ipython",
    "version": 3
   },
   "file_extension": ".py",
   "mimetype": "text/x-python",
   "name": "python",
   "nbconvert_exporter": "python",
   "pygments_lexer": "ipython3",
   "version": "3.8.5"
  },
  "toc": {
   "base_numbering": 1,
   "nav_menu": {},
   "number_sections": true,
   "sideBar": true,
   "skip_h1_title": false,
   "title_cell": "Table of Contents",
   "title_sidebar": "Contents",
   "toc_cell": false,
   "toc_position": {
    "height": "calc(100% - 180px)",
    "left": "10px",
    "top": "150px",
    "width": "306.390625px"
   },
   "toc_section_display": true,
   "toc_window_display": true
  }
 },
 "nbformat": 4,
 "nbformat_minor": 2
}
